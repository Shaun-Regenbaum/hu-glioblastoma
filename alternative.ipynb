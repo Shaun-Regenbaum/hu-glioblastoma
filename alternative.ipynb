{
 "cells": [
  {
   "cell_type": "code",
   "execution_count": 7,
   "metadata": {},
   "outputs": [
    {
     "name": "stdout",
     "output_type": "stream",
     "text": [
      "scanpy==1.9.3 anndata==0.9.1 umap==0.5.3 numpy==1.24.4 scipy==1.11.0 pandas==1.5.3 scikit-learn==1.2.2 statsmodels==0.14.0 python-igraph==0.10.6 louvain==0.8.1 pynndescent==0.5.10\n"
     ]
    }
   ],
   "source": [
    "import numpy as np\n",
    "import pandas as pd\n",
    "import scanpy as sc\n",
    "import seaborn as sns\n",
    "\n",
    "sc.settings.verbosity = 3             # verbosity: errors (0), warnings (1), info (2), hints (3)\n",
    "sc.logging.print_header()\n",
    "sc.settings.set_figure_params(dpi=80, facecolor='white')\n"
   ]
  },
  {
   "cell_type": "code",
   "execution_count": 8,
   "metadata": {},
   "outputs": [
    {
     "name": "stdout",
     "output_type": "stream",
     "text": [
      "reading 1914/1914_filtered.h5\n",
      " (0:00:00)\n",
      "reading 1914d/1914d_filtered.h5\n"
     ]
    },
    {
     "name": "stderr",
     "output_type": "stream",
     "text": [
      "/Users/shaunie/anaconda3/envs/hu-aging/lib/python3.11/site-packages/anndata/_core/anndata.py:1832: UserWarning: Variable names are not unique. To make them unique, call `.var_names_make_unique`.\n",
      "  utils.warn_names_duplicates(\"var\")\n"
     ]
    },
    {
     "name": "stdout",
     "output_type": "stream",
     "text": [
      " (0:00:01)\n",
      "reading 1919/1919_filtered.h5\n"
     ]
    },
    {
     "name": "stderr",
     "output_type": "stream",
     "text": [
      "/Users/shaunie/anaconda3/envs/hu-aging/lib/python3.11/site-packages/anndata/_core/anndata.py:1832: UserWarning: Variable names are not unique. To make them unique, call `.var_names_make_unique`.\n",
      "  utils.warn_names_duplicates(\"var\")\n"
     ]
    },
    {
     "name": "stdout",
     "output_type": "stream",
     "text": [
      " (0:00:00)\n",
      "reading 1919d/1919d_filtered.h5\n"
     ]
    },
    {
     "name": "stderr",
     "output_type": "stream",
     "text": [
      "/Users/shaunie/anaconda3/envs/hu-aging/lib/python3.11/site-packages/anndata/_core/anndata.py:1832: UserWarning: Variable names are not unique. To make them unique, call `.var_names_make_unique`.\n",
      "  utils.warn_names_duplicates(\"var\")\n"
     ]
    },
    {
     "name": "stdout",
     "output_type": "stream",
     "text": [
      " (0:00:00)\n",
      "reading 1914/1914_filtered.h5\n"
     ]
    },
    {
     "name": "stderr",
     "output_type": "stream",
     "text": [
      "/Users/shaunie/anaconda3/envs/hu-aging/lib/python3.11/site-packages/anndata/_core/anndata.py:1832: UserWarning: Variable names are not unique. To make them unique, call `.var_names_make_unique`.\n",
      "  utils.warn_names_duplicates(\"var\")\n"
     ]
    },
    {
     "name": "stdout",
     "output_type": "stream",
     "text": [
      " (0:00:00)\n",
      "reading 1914d/1914d_filtered.h5\n"
     ]
    },
    {
     "name": "stderr",
     "output_type": "stream",
     "text": [
      "/Users/shaunie/anaconda3/envs/hu-aging/lib/python3.11/site-packages/anndata/_core/anndata.py:1832: UserWarning: Variable names are not unique. To make them unique, call `.var_names_make_unique`.\n",
      "  utils.warn_names_duplicates(\"var\")\n"
     ]
    },
    {
     "name": "stdout",
     "output_type": "stream",
     "text": [
      " (0:00:01)\n",
      "reading 1919/1919_filtered.h5\n"
     ]
    },
    {
     "name": "stderr",
     "output_type": "stream",
     "text": [
      "/Users/shaunie/anaconda3/envs/hu-aging/lib/python3.11/site-packages/anndata/_core/anndata.py:1832: UserWarning: Variable names are not unique. To make them unique, call `.var_names_make_unique`.\n",
      "  utils.warn_names_duplicates(\"var\")\n"
     ]
    },
    {
     "name": "stdout",
     "output_type": "stream",
     "text": [
      " (0:00:00)\n",
      "reading 1919d/1919d_filtered.h5\n"
     ]
    },
    {
     "name": "stderr",
     "output_type": "stream",
     "text": [
      "/Users/shaunie/anaconda3/envs/hu-aging/lib/python3.11/site-packages/anndata/_core/anndata.py:1832: UserWarning: Variable names are not unique. To make them unique, call `.var_names_make_unique`.\n",
      "  utils.warn_names_duplicates(\"var\")\n"
     ]
    },
    {
     "name": "stdout",
     "output_type": "stream",
     "text": [
      " (0:00:00)\n"
     ]
    },
    {
     "name": "stderr",
     "output_type": "stream",
     "text": [
      "/Users/shaunie/anaconda3/envs/hu-aging/lib/python3.11/site-packages/anndata/_core/anndata.py:1832: UserWarning: Variable names are not unique. To make them unique, call `.var_names_make_unique`.\n",
      "  utils.warn_names_duplicates(\"var\")\n"
     ]
    }
   ],
   "source": [
    "# Aprrox. 1 sec per read\n",
    "file_location = ''\n",
    "data_1914 = '1914/1914_filtered.h5'\n",
    "data_1914d = '1914d/1914d_filtered.h5'\n",
    "data_1919 = '1919/1919_filtered.h5'\n",
    "data_1919d = '1919d/1919d_filtered.h5'\n",
    "\n",
    "# For remote server\n",
    "# file_location = '../datasets/'\n",
    "# data_1914 = 'data_1914/filtered_feature_bc_matrix.h5'\n",
    "# data_1914d = 'data_1914d/filtered_feature_bc_matrix.h5'\n",
    "# data_1919 = 'data_1919/filtered_feature_bc_matrix.h5'\n",
    "# data_1919d = 'data_1919d/filtered_feature_bc_matrix.h5'\n",
    "\n",
    "\n",
    "\n",
    "adata_1914_human = sc.read_10x_h5(\n",
    "    file_location + data_1914,\n",
    "    genome='GRCh38')\n",
    "adata_1914d_human = sc.read_10x_h5(\n",
    "    file_location + data_1914d,\n",
    "    genome='GRCh38')\n",
    "adata_1919_human = sc.read_10x_h5(\n",
    "    file_location + data_1919,\n",
    "    genome='GRCh38')\n",
    "adata_1919d_human = sc.read_10x_h5(\n",
    "    file_location + data_1919d,\n",
    "    genome='GRCh38')\n",
    "\n",
    "adata_1914_rat = sc.read_10x_h5(\n",
    "    file_location + data_1914,\n",
    "        genome='mRatBN7.2')\n",
    "adata_1914d_rat = sc.read_10x_h5(\n",
    "    file_location + data_1914d,\n",
    "    genome='mRatBN7.2')\n",
    "adata_1919_rat = sc.read_10x_h5(\n",
    "    file_location + data_1919,\n",
    "    genome='mRatBN7.2')\n",
    "adata_1919d_rat = sc.read_10x_h5(\n",
    "    file_location + data_1919d,\n",
    "    genome='mRatBN7.2')\n",
    "\n",
    "\n"
   ]
  },
  {
   "cell_type": "code",
   "execution_count": 9,
   "metadata": {},
   "outputs": [
    {
     "name": "stderr",
     "output_type": "stream",
     "text": [
      "/Users/shaunie/anaconda3/envs/hu-aging/lib/python3.11/site-packages/anndata/_core/anndata.py:1755: FutureWarning: The AnnData.concatenate method is deprecated in favour of the anndata.concat function. Please use anndata.concat instead.\n",
      "\n",
      "See the tutorial for concat at: https://anndata.readthedocs.io/en/latest/concatenation.html\n",
      "  warnings.warn(\n"
     ]
    }
   ],
   "source": [
    "# filter the GRCh38__ from the front of names\n",
    "adata_1914_human.var_names = [name[10:] for name in adata_1914_human.var_names]\n",
    "adata_1914d_human.var_names = [name[10:] for name in adata_1914d_human.var_names]\n",
    "adata_1919_human.var_names = [name[10:] for name in adata_1919_human.var_names]\n",
    "adata_1919d_human.var_names = [name[10:] for name in adata_1919d_human.var_names]\n",
    "adata_1914_rat.var_names = [name[10:] for name in adata_1914_rat.var_names]\n",
    "adata_1914d_rat.var_names = [name[10:] for name in adata_1914d_rat.var_names]\n",
    "adata_1919_rat.var_names = [name[10:] for name in adata_1919_rat.var_names]\n",
    "adata_1919d_rat.var_names = [name[10:] for name in adata_1919d_rat.var_names]\n",
    "\n",
    "\n",
    "# make the gene names unique\n",
    "adata_1914_human.var_names_make_unique()\n",
    "adata_1914d_human.var_names_make_unique()\n",
    "adata_1919_human.var_names_make_unique()\n",
    "adata_1919d_human.var_names_make_unique()\n",
    "adata_1914_rat.var_names_make_unique()\n",
    "adata_1914d_rat.var_names_make_unique()\n",
    "adata_1919_rat.var_names_make_unique()\n",
    "adata_1919d_rat.var_names_make_unique()\n",
    "\n",
    "adata_combined = adata_1914_human.concatenate(adata_1914_rat, adata_1914d_human, adata_1914d_rat, adata_1919_human, adata_1919_rat, adata_1919d_human, adata_1919d_rat, batch_categories=['1914_human', '1914_rat', '1914d_human', '1914d_rat', '1919_human', '1919_rat', '1919d_human', '1919d_rat'], join='outer')\n",
    "\n",
    "# save the combined data\n",
    "adata_combined.write('combined.h5ad')"
   ]
  },
  {
   "cell_type": "code",
   "execution_count": null,
   "metadata": {},
   "outputs": [],
   "source": [
    "rf_total_combined = 'combined.h5ad'\n",
    "\n",
    "running_on = [rf_total_combined]\n",
    "saving_to = [rf_total_combined]"
   ]
  },
  {
   "cell_type": "code",
   "execution_count": null,
   "metadata": {},
   "outputs": [],
   "source": [
    "\n",
    "# filter cells with less than 200 genes expressed\n",
    "def filter_200(running_on):\n",
    "    for item in running_on:\n",
    "        sc.pp.filter_cells(item, min_genes=200)\n",
    "    \n",
    "# filter genes expressed in less than 2 cells\n",
    "def filter_2(running_on):\n",
    "    for item in running_on:\n",
    "        sc.pp.filter_genes(item, min_cells=2)\n",
    "\n",
    "filter_200(running_on)\n",
    "filter_2(running_on)"
   ]
  }
 ],
 "metadata": {
  "kernelspec": {
   "display_name": "hu-aging",
   "language": "python",
   "name": "python3"
  },
  "language_info": {
   "codemirror_mode": {
    "name": "ipython",
    "version": 3
   },
   "file_extension": ".py",
   "mimetype": "text/x-python",
   "name": "python",
   "nbconvert_exporter": "python",
   "pygments_lexer": "ipython3",
   "version": "3.11.3"
  }
 },
 "nbformat": 4,
 "nbformat_minor": 2
}
