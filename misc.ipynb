{
 "cells": [
  {
   "cell_type": "code",
   "execution_count": null,
   "metadata": {},
   "outputs": [],
   "source": [
    "import numpy as np\n",
    "import pandas as pd\n",
    "import scanpy as sc\n",
    "import seaborn as sns\n",
    "import matplotlib.pyplot as plt\n",
    "\n",
    "sc.settings.verbosity = 3             # verbosity: errors (0), warnings (1), info (2), hints (3)\n",
    "sc.logging.print_header()\n",
    "sc.settings.set_figure_params(dpi=100, facecolor='white', frameon=False, fontsize=20, figsize=(12, 12))\n",
    "\n",
    "palette_8 = {\n",
    "    'Stem': '#2ca02c',\n",
    "    'Endothelial-like': '#d62728',\n",
    "    'Astrocyte-like': '#9467bd',\n",
    "    'OPC-like': '#8c564b',\n",
    "    'NPC-like': '#e377c2',\n",
    "    'Mesenchymal-like': '#ff7f9e',\n",
    "}\n",
    "\n"
   ]
  },
  {
   "cell_type": "code",
   "execution_count": null,
   "metadata": {},
   "outputs": [],
   "source": [
    "adata = sc.read('write/human_combined_final.h5ad')\n",
    "sc.pp.log1p(adata)\n",
    "# redo neighbors and umap\n",
    "sc.pp.neighbors(adata, n_neighbors=40, n_pcs=16)\n",
    "sc.tl.umap(adata)\n",
    "\n",
    "# redo louvain clustering\n",
    "sc.tl.louvain(adata, resolution=0.5)\n",
    "adata.obs\n",
    "\n"
   ]
  },
  {
   "cell_type": "code",
   "execution_count": null,
   "metadata": {},
   "outputs": [],
   "source": [
    "sc.pl.umap(adata, color=[\"EGFR\", \"PDGFRA\", \"CDK4\"], size = 300, title='')"
   ]
  },
  {
   "cell_type": "code",
   "execution_count": null,
   "metadata": {},
   "outputs": [],
   "source": [
    "# drop cluster_f\n",
    "adata.obs.drop(columns=['cluster_f'], inplace=True)\n",
    "# cluster group 9 0 4\n",
    "adata.obs.loc[adata.obs.louvain == '9', 'cluster_f'] = 'A'\n",
    "adata.obs.loc[adata.obs.louvain == '0', 'cluster_f'] = 'A'\n",
    "adata.obs.loc[adata.obs.louvain == '4', 'cluster_f'] = 'A'\n",
    "\n",
    "\n",
    "# 2 8 5 6\n",
    "adata.obs.loc[adata.obs.louvain == '2', 'cluster_f'] = 'B'\n",
    "adata.obs.loc[adata.obs.louvain == '5', 'cluster_f'] = 'B'\n",
    "adata.obs.loc[adata.obs.louvain == '6', 'cluster_f'] = 'B'\n",
    "\n",
    "# 11 7 1 3 10\n",
    "adata.obs.loc[adata.obs.louvain == '11', 'cluster_f'] = 'C'\n",
    "adata.obs.loc[adata.obs.louvain == '7', 'cluster_f'] = 'C'\n",
    "adata.obs.loc[adata.obs.louvain == '1', 'cluster_f'] = 'C'\n",
    "adata.obs.loc[adata.obs.louvain == '3', 'cluster_f'] = 'C'\n",
    "adata.obs.loc[adata.obs.louvain == '10', 'cluster_f'] = 'C'\n",
    "\n",
    "adata.obs.loc[adata.obs.louvain == '8', 'cluster_f'] = 'D'\n",
    "adata.obs.loc[adata.obs.louvain == '13', 'cluster_f'] = 'D'\n",
    "adata.obs.loc[adata.obs.louvain == '16', 'cluster_f'] = 'D'\n",
    "adata.obs.loc[adata.obs.louvain == '14', 'cluster_f'] = 'D'\n",
    "adata.obs.loc[adata.obs.louvain == '17', 'cluster_f'] = 'D'\n",
    "adata.obs.loc[adata.obs.louvain == '12', 'cluster_f'] = 'D'\n",
    "\n",
    "adata.obs.loc[adata.obs.louvain == '15', 'cluster_f'] = 'E'\n",
    "\n",
    "\n",
    "\n"
   ]
  },
  {
   "cell_type": "code",
   "execution_count": null,
   "metadata": {},
   "outputs": [],
   "source": [
    "sc.pl.rank_genes_groups(adata, n_genes=25, sharey=False, ncols=5, fontsize=20, title='')\n",
    "# convert each one to a list\n",
    "A = adata.uns['rank_genes_groups']['names']['A'].tolist()\n",
    "B = adata.uns['rank_genes_groups']['names']['B'].tolist()\n",
    "C = adata.uns['rank_genes_groups']['names']['C'].tolist()\n",
    "D = adata.uns['rank_genes_groups']['names']['D'].tolist()\n",
    "\n",
    "# join A with \\n \n",
    "C = '\\n'.join(C)\n",
    "print(C)"
   ]
  },
  {
   "cell_type": "code",
   "execution_count": null,
   "metadata": {},
   "outputs": [],
   "source": [
    "# differentiated genes between B and A\n",
    "# log data\n",
    "sc.tl.rank_genes_groups(adata, 'cluster_f', method='t-test')"
   ]
  }
 ],
 "metadata": {
  "language_info": {
   "name": "python"
  },
  "orig_nbformat": 4
 },
 "nbformat": 4,
 "nbformat_minor": 2
}
